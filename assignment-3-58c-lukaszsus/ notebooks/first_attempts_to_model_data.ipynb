{
 "cells": [
  {
   "cell_type": "code",
   "execution_count": 1,
   "metadata": {},
   "outputs": [],
   "source": [
    "import os, sys, inspect\n",
    "currentdir = os.path.dirname(os.path.abspath(inspect.getfile(inspect.currentframe())))\n",
    "parentdir = os.path.dirname(currentdir)\n",
    "sys.path.insert(0, parentdir)\n",
    "from settings import DATA_PATH\n",
    "\n",
    "import numpy as np\n",
    "import pandas as pd\n",
    "import matplotlib.pyplot as plt\n",
    "import seaborn as sns"
   ]
  },
  {
   "cell_type": "code",
   "execution_count": 2,
   "metadata": {
    "scrolled": true
   },
   "outputs": [
    {
     "data": {
      "text/plain": [
       "['series1.csv', 'series2.csv', 'series3.csv']"
      ]
     },
     "execution_count": 2,
     "metadata": {},
     "output_type": "execute_result"
    }
   ],
   "source": [
    "os.listdir(DATA_PATH)"
   ]
  },
  {
   "cell_type": "code",
   "execution_count": 7,
   "metadata": {},
   "outputs": [],
   "source": [
    "df_1 = pd.read_csv(os.path.join(DATA_PATH, \"series1.csv\"))\n",
    "df_2 = pd.read_csv(os.path.join(DATA_PATH, \"series2.csv\"))\n",
    "df_3 = pd.read_csv(os.path.join(DATA_PATH, \"series3.csv\"))\n",
    "df = pd.concat([df_1, df_2, df_3], ignore_index=True)"
   ]
  },
  {
   "cell_type": "markdown",
   "metadata": {},
   "source": [
    "# Attempt to model data distributions"
   ]
  },
  {
   "cell_type": "code",
   "execution_count": 8,
   "metadata": {},
   "outputs": [],
   "source": [
    "class NormalDistChecker:\n",
    "    def __init__(self, diff_window_size):\n",
    "        self._mean = 0\n",
    "        self._std = 1\n",
    "#         self._likelihood = 0\n",
    "        self.history = {\"mean\": list(), \"std\": list(), \"likelihood\": list()}\n",
    "        self.diff_window_size = diff_window_size\n",
    "    \n",
    "    def fit(self, data_batch):\n",
    "        mean = np.mean(data_batch)\n",
    "        std = np.std(data_batch)\n",
    "        likelihood = np.mean(self.calculate_likelihood(data_batch[-self.diff_window_size:]))\n",
    "        \n",
    "        self._mean = mean\n",
    "        self._std = std\n",
    "        \n",
    "        self.history[\"mean\"].append(mean)\n",
    "        self.history[\"std\"].append(std)\n",
    "        self.history[\"likelihood\"].append(likelihood)\n",
    "        \n",
    "    def calculate_likelihood(self, data_batch, verbose=False):\n",
    "        if verbose:\n",
    "            print(data_batch - self._mean)\n",
    "            print((data_batch - self._mean)/self._std)\n",
    "            print(((data_batch - self._mean)/self._std) ** 2)\n",
    "            print(- ((data_batch - self._mean)/self._std) ** 2 / 2)\n",
    "            print(self._std * np.sqrt(2 * np.pi))\n",
    "        return np.exp(- ((data_batch - self._mean)/self._std) ** 2 / 2) / (self._std * np.sqrt(2 * np.pi) + 1e-5)"
   ]
  },
  {
   "cell_type": "markdown",
   "metadata": {},
   "source": [
    "## Model Unit Tests"
   ]
  },
  {
   "cell_type": "code",
   "execution_count": 9,
   "metadata": {},
   "outputs": [
    {
     "name": "stdout",
     "output_type": "stream",
     "text": [
      "[ 0  1  2  3  4 -4]\n",
      "[ 0.  1.  2.  3.  4. -4.]\n",
      "[ 0.  1.  4.  9. 16. 16.]\n",
      "[-0.  -0.5 -2.  -4.5 -8.  -8. ]\n",
      "2.5066282746310002\n"
     ]
    },
    {
     "data": {
      "text/plain": [
       "array([3.98940689e-01, 2.41969759e-01, 5.39907511e-02, 4.43183073e-03,\n",
       "       1.33829692e-04, 1.33829692e-04])"
      ]
     },
     "execution_count": 9,
     "metadata": {},
     "output_type": "execute_result"
    }
   ],
   "source": [
    "model = NormalDistChecker(diff_window_size=10)\n",
    "model._mean = 0\n",
    "model._std = 1\n",
    "model.calculate_likelihood(np.asarray([0, 1, 2, 3, 4, -4]), verbose=True)"
   ]
  },
  {
   "cell_type": "markdown",
   "metadata": {},
   "source": [
    "## Experiments"
   ]
  },
  {
   "cell_type": "code",
   "execution_count": 10,
   "metadata": {},
   "outputs": [
    {
     "ename": "NameError",
     "evalue": "name 'window_size' is not defined",
     "output_type": "error",
     "traceback": [
      "\u001b[0;31m---------------------------------------------------------------------------\u001b[0m",
      "\u001b[0;31mNameError\u001b[0m                                 Traceback (most recent call last)",
      "\u001b[0;32m<ipython-input-10-dd332fbaf903>\u001b[0m in \u001b[0;36m<module>\u001b[0;34m\u001b[0m\n\u001b[1;32m      1\u001b[0m \u001b[0mx\u001b[0m \u001b[0;34m=\u001b[0m \u001b[0mdf\u001b[0m\u001b[0;34m.\u001b[0m\u001b[0mx\u001b[0m\u001b[0;34m.\u001b[0m\u001b[0mvalues\u001b[0m\u001b[0;34m\u001b[0m\u001b[0;34m\u001b[0m\u001b[0m\n\u001b[1;32m      2\u001b[0m \u001b[0mmodel\u001b[0m \u001b[0;34m=\u001b[0m \u001b[0mNormalDistChecker\u001b[0m\u001b[0;34m(\u001b[0m\u001b[0mdiff_window_size\u001b[0m\u001b[0;34m=\u001b[0m\u001b[0;36m10\u001b[0m\u001b[0;34m)\u001b[0m\u001b[0;34m\u001b[0m\u001b[0;34m\u001b[0m\u001b[0m\n\u001b[0;32m----> 3\u001b[0;31m \u001b[0;32mfor\u001b[0m \u001b[0mi\u001b[0m \u001b[0;32min\u001b[0m \u001b[0mrange\u001b[0m\u001b[0;34m(\u001b[0m\u001b[0mlen\u001b[0m\u001b[0;34m(\u001b[0m\u001b[0mx\u001b[0m\u001b[0;34m)\u001b[0m \u001b[0;34m-\u001b[0m \u001b[0mwindow_size\u001b[0m\u001b[0;34m)\u001b[0m\u001b[0;34m:\u001b[0m\u001b[0;34m\u001b[0m\u001b[0;34m\u001b[0m\u001b[0m\n\u001b[0m\u001b[1;32m      4\u001b[0m     \u001b[0mdata_batch\u001b[0m \u001b[0;34m=\u001b[0m \u001b[0mx\u001b[0m\u001b[0;34m[\u001b[0m\u001b[0mi\u001b[0m\u001b[0;34m:\u001b[0m\u001b[0mi\u001b[0m \u001b[0;34m+\u001b[0m \u001b[0mwindow_size\u001b[0m\u001b[0;34m]\u001b[0m\u001b[0;34m\u001b[0m\u001b[0;34m\u001b[0m\u001b[0m\n\u001b[1;32m      5\u001b[0m     \u001b[0mmodel\u001b[0m\u001b[0;34m.\u001b[0m\u001b[0mfit\u001b[0m\u001b[0;34m(\u001b[0m\u001b[0mdata_batch\u001b[0m\u001b[0;34m)\u001b[0m\u001b[0;34m\u001b[0m\u001b[0;34m\u001b[0m\u001b[0m\n",
      "\u001b[0;31mNameError\u001b[0m: name 'window_size' is not defined"
     ]
    }
   ],
   "source": [
    "x = df.x.values\n",
    "model = NormalDistChecker(diff_window_size=10)\n",
    "for i in range(len(x) - window_size):\n",
    "    data_batch = x[i:i + window_size]\n",
    "    model.fit(data_batch)"
   ]
  },
  {
   "cell_type": "code",
   "execution_count": 11,
   "metadata": {},
   "outputs": [],
   "source": [
    "# model.history[\"likelihood\"]\n",
    "for i in range(0, len(model.history[\"likelihood\"])):\n",
    "    if model.history[\"likelihood\"][i] < 0.35:\n",
    "        print(i, model.history[\"likelihood\"][i])"
   ]
  },
  {
   "cell_type": "code",
   "execution_count": null,
   "metadata": {},
   "outputs": [],
   "source": []
  },
  {
   "cell_type": "markdown",
   "metadata": {},
   "source": [
    "# New ideas\n",
    "## Models"
   ]
  },
  {
   "cell_type": "code",
   "execution_count": 12,
   "metadata": {},
   "outputs": [],
   "source": [
    "class CompareNextBatchesAnalyser:\n",
    "    def __init__(self, window_size, threshold):\n",
    "        # current distribution params\n",
    "        self._mean = 0\n",
    "        self._std = 1\n",
    "        \n",
    "        # window\n",
    "        self._window_size = window_size\n",
    "        self._window = np.zeros(shape=window_size)\n",
    "        self._window_mean = 0\n",
    "        self._window_std = 1\n",
    "        self._current_index = -1\n",
    "\n",
    "        # other params\n",
    "        self._threshold = threshold\n",
    "        \n",
    "        # returned dictionary\n",
    "        self.distributions = pd.DataFrame(columns=[\"start_index\", \"mean\", \"std\"])\n",
    "        \n",
    "        # global index\n",
    "        self._global_index = -1\n",
    "    \n",
    "    def fit(self, x):\n",
    "        self._global_index += 1\n",
    "        self._current_index += 1\n",
    "        \n",
    "        self._window[self._current_index] = x\n",
    "        \n",
    "        if self._current_index == self._window_size - 1:\n",
    "            self._calculate_window_params()\n",
    "            self._check_dist_if_changed()\n",
    "            self._current_index = -1\n",
    "            \n",
    "    def get_distributions(self):\n",
    "        return self.distributions            \n",
    "            \n",
    "    def _calculate_window_params(self):\n",
    "        self._window_mean = np.mean(self._window)\n",
    "        self._window_std = np.std(self._window)\n",
    "        \n",
    "    def _check_dist_if_changed(self):\n",
    "        if np.abs(self._mean - self._window_mean) > self._threshold or np.abs(self._std - self._window_std) > self._threshold:\n",
    "            self._mean = self._window_mean\n",
    "            self._std = self._window_std\n",
    "            start_index = self._global_index - self._window_size + 1\n",
    "            self.distributions = self.distributions.append([{\"start_index\": start_index,\n",
    "                                                            \"mean\": self._mean,\n",
    "                                                            \"std\": self._std}], ignore_index=True)"
   ]
  },
  {
   "cell_type": "markdown",
   "metadata": {},
   "source": [
    "## Experiments"
   ]
  },
  {
   "cell_type": "code",
   "execution_count": 13,
   "metadata": {},
   "outputs": [
    {
     "data": {
      "text/html": [
       "<div>\n",
       "<style scoped>\n",
       "    .dataframe tbody tr th:only-of-type {\n",
       "        vertical-align: middle;\n",
       "    }\n",
       "\n",
       "    .dataframe tbody tr th {\n",
       "        vertical-align: top;\n",
       "    }\n",
       "\n",
       "    .dataframe thead th {\n",
       "        text-align: right;\n",
       "    }\n",
       "</style>\n",
       "<table border=\"1\" class=\"dataframe\">\n",
       "  <thead>\n",
       "    <tr style=\"text-align: right;\">\n",
       "      <th></th>\n",
       "      <th>start_index</th>\n",
       "      <th>mean</th>\n",
       "      <th>std</th>\n",
       "    </tr>\n",
       "  </thead>\n",
       "  <tbody>\n",
       "    <tr>\n",
       "      <th>0</th>\n",
       "      <td>0</td>\n",
       "      <td>1.238637</td>\n",
       "      <td>0.308834</td>\n",
       "    </tr>\n",
       "    <tr>\n",
       "      <th>1</th>\n",
       "      <td>2800</td>\n",
       "      <td>1.715510</td>\n",
       "      <td>0.434285</td>\n",
       "    </tr>\n",
       "    <tr>\n",
       "      <th>2</th>\n",
       "      <td>3000</td>\n",
       "      <td>1.279395</td>\n",
       "      <td>0.309475</td>\n",
       "    </tr>\n",
       "    <tr>\n",
       "      <th>3</th>\n",
       "      <td>3200</td>\n",
       "      <td>1.740668</td>\n",
       "      <td>0.438334</td>\n",
       "    </tr>\n",
       "    <tr>\n",
       "      <th>4</th>\n",
       "      <td>3400</td>\n",
       "      <td>1.293221</td>\n",
       "      <td>0.336348</td>\n",
       "    </tr>\n",
       "    <tr>\n",
       "      <th>5</th>\n",
       "      <td>3600</td>\n",
       "      <td>1.777130</td>\n",
       "      <td>0.425814</td>\n",
       "    </tr>\n",
       "    <tr>\n",
       "      <th>6</th>\n",
       "      <td>3800</td>\n",
       "      <td>1.226509</td>\n",
       "      <td>0.337892</td>\n",
       "    </tr>\n",
       "    <tr>\n",
       "      <th>7</th>\n",
       "      <td>4000</td>\n",
       "      <td>1.771789</td>\n",
       "      <td>0.349463</td>\n",
       "    </tr>\n",
       "    <tr>\n",
       "      <th>8</th>\n",
       "      <td>4200</td>\n",
       "      <td>1.282972</td>\n",
       "      <td>0.302951</td>\n",
       "    </tr>\n",
       "    <tr>\n",
       "      <th>9</th>\n",
       "      <td>4400</td>\n",
       "      <td>1.813593</td>\n",
       "      <td>0.420115</td>\n",
       "    </tr>\n",
       "    <tr>\n",
       "      <th>10</th>\n",
       "      <td>4600</td>\n",
       "      <td>1.264987</td>\n",
       "      <td>0.333219</td>\n",
       "    </tr>\n",
       "    <tr>\n",
       "      <th>11</th>\n",
       "      <td>4800</td>\n",
       "      <td>1.762203</td>\n",
       "      <td>0.445573</td>\n",
       "    </tr>\n",
       "    <tr>\n",
       "      <th>12</th>\n",
       "      <td>5000</td>\n",
       "      <td>1.300826</td>\n",
       "      <td>0.312535</td>\n",
       "    </tr>\n",
       "    <tr>\n",
       "      <th>13</th>\n",
       "      <td>5200</td>\n",
       "      <td>1.764119</td>\n",
       "      <td>0.445069</td>\n",
       "    </tr>\n",
       "    <tr>\n",
       "      <th>14</th>\n",
       "      <td>5400</td>\n",
       "      <td>1.300636</td>\n",
       "      <td>0.304449</td>\n",
       "    </tr>\n",
       "    <tr>\n",
       "      <th>15</th>\n",
       "      <td>5600</td>\n",
       "      <td>1.724977</td>\n",
       "      <td>0.444053</td>\n",
       "    </tr>\n",
       "  </tbody>\n",
       "</table>\n",
       "</div>"
      ],
      "text/plain": [
       "   start_index      mean       std\n",
       "0            0  1.238637  0.308834\n",
       "1         2800  1.715510  0.434285\n",
       "2         3000  1.279395  0.309475\n",
       "3         3200  1.740668  0.438334\n",
       "4         3400  1.293221  0.336348\n",
       "5         3600  1.777130  0.425814\n",
       "6         3800  1.226509  0.337892\n",
       "7         4000  1.771789  0.349463\n",
       "8         4200  1.282972  0.302951\n",
       "9         4400  1.813593  0.420115\n",
       "10        4600  1.264987  0.333219\n",
       "11        4800  1.762203  0.445573\n",
       "12        5000  1.300826  0.312535\n",
       "13        5200  1.764119  0.445069\n",
       "14        5400  1.300636  0.304449\n",
       "15        5600  1.724977  0.444053"
      ]
     },
     "execution_count": 13,
     "metadata": {},
     "output_type": "execute_result"
    }
   ],
   "source": [
    "stream = df_1.x\n",
    "model = CompareNextBatchesAnalyser(window_size=100, threshold=0.2)\n",
    "for i in range(len(stream)):\n",
    "    model.fit(stream[i])\n",
    "model.get_distributions()"
   ]
  },
  {
   "cell_type": "code",
   "execution_count": 14,
   "metadata": {},
   "outputs": [
    {
     "data": {
      "text/html": [
       "<div>\n",
       "<style scoped>\n",
       "    .dataframe tbody tr th:only-of-type {\n",
       "        vertical-align: middle;\n",
       "    }\n",
       "\n",
       "    .dataframe tbody tr th {\n",
       "        vertical-align: top;\n",
       "    }\n",
       "\n",
       "    .dataframe thead th {\n",
       "        text-align: right;\n",
       "    }\n",
       "</style>\n",
       "<table border=\"1\" class=\"dataframe\">\n",
       "  <thead>\n",
       "    <tr style=\"text-align: right;\">\n",
       "      <th></th>\n",
       "      <th>start_index</th>\n",
       "      <th>mean</th>\n",
       "      <th>std</th>\n",
       "    </tr>\n",
       "  </thead>\n",
       "  <tbody>\n",
       "    <tr>\n",
       "      <th>0</th>\n",
       "      <td>0</td>\n",
       "      <td>0.987104</td>\n",
       "      <td>0.196924</td>\n",
       "    </tr>\n",
       "    <tr>\n",
       "      <th>1</th>\n",
       "      <td>4100</td>\n",
       "      <td>1.194886</td>\n",
       "      <td>0.356508</td>\n",
       "    </tr>\n",
       "    <tr>\n",
       "      <th>2</th>\n",
       "      <td>5400</td>\n",
       "      <td>1.415543</td>\n",
       "      <td>0.289735</td>\n",
       "    </tr>\n",
       "  </tbody>\n",
       "</table>\n",
       "</div>"
      ],
      "text/plain": [
       "  start_index      mean       std\n",
       "0           0  0.987104  0.196924\n",
       "1        4100  1.194886  0.356508\n",
       "2        5400  1.415543  0.289735"
      ]
     },
     "execution_count": 14,
     "metadata": {},
     "output_type": "execute_result"
    }
   ],
   "source": [
    "stream = df_2.x\n",
    "model = CompareNextBatchesAnalyser(window_size=100, threshold=0.2)\n",
    "for i in range(len(stream)):\n",
    "    model.fit(stream[i])\n",
    "model.get_distributions()"
   ]
  },
  {
   "cell_type": "code",
   "execution_count": 15,
   "metadata": {},
   "outputs": [
    {
     "data": {
      "text/html": [
       "<div>\n",
       "<style scoped>\n",
       "    .dataframe tbody tr th:only-of-type {\n",
       "        vertical-align: middle;\n",
       "    }\n",
       "\n",
       "    .dataframe tbody tr th {\n",
       "        vertical-align: top;\n",
       "    }\n",
       "\n",
       "    .dataframe thead th {\n",
       "        text-align: right;\n",
       "    }\n",
       "</style>\n",
       "<table border=\"1\" class=\"dataframe\">\n",
       "  <thead>\n",
       "    <tr style=\"text-align: right;\">\n",
       "      <th></th>\n",
       "      <th>start_index</th>\n",
       "      <th>mean</th>\n",
       "      <th>std</th>\n",
       "    </tr>\n",
       "  </thead>\n",
       "  <tbody>\n",
       "    <tr>\n",
       "      <th>0</th>\n",
       "      <td>0</td>\n",
       "      <td>0.413841</td>\n",
       "      <td>0.694086</td>\n",
       "    </tr>\n",
       "    <tr>\n",
       "      <th>1</th>\n",
       "      <td>2600</td>\n",
       "      <td>0.209520</td>\n",
       "      <td>0.791659</td>\n",
       "    </tr>\n",
       "    <tr>\n",
       "      <th>2</th>\n",
       "      <td>3000</td>\n",
       "      <td>0.423469</td>\n",
       "      <td>0.793082</td>\n",
       "    </tr>\n",
       "    <tr>\n",
       "      <th>3</th>\n",
       "      <td>4200</td>\n",
       "      <td>0.199673</td>\n",
       "      <td>0.723433</td>\n",
       "    </tr>\n",
       "    <tr>\n",
       "      <th>4</th>\n",
       "      <td>4300</td>\n",
       "      <td>0.445625</td>\n",
       "      <td>0.752086</td>\n",
       "    </tr>\n",
       "    <tr>\n",
       "      <th>5</th>\n",
       "      <td>6500</td>\n",
       "      <td>0.232122</td>\n",
       "      <td>0.706892</td>\n",
       "    </tr>\n",
       "    <tr>\n",
       "      <th>6</th>\n",
       "      <td>7100</td>\n",
       "      <td>0.444803</td>\n",
       "      <td>0.835293</td>\n",
       "    </tr>\n",
       "    <tr>\n",
       "      <th>7</th>\n",
       "      <td>7400</td>\n",
       "      <td>0.137056</td>\n",
       "      <td>0.789461</td>\n",
       "    </tr>\n",
       "    <tr>\n",
       "      <th>8</th>\n",
       "      <td>7700</td>\n",
       "      <td>0.380942</td>\n",
       "      <td>0.640852</td>\n",
       "    </tr>\n",
       "  </tbody>\n",
       "</table>\n",
       "</div>"
      ],
      "text/plain": [
       "  start_index      mean       std\n",
       "0           0  0.413841  0.694086\n",
       "1        2600  0.209520  0.791659\n",
       "2        3000  0.423469  0.793082\n",
       "3        4200  0.199673  0.723433\n",
       "4        4300  0.445625  0.752086\n",
       "5        6500  0.232122  0.706892\n",
       "6        7100  0.444803  0.835293\n",
       "7        7400  0.137056  0.789461\n",
       "8        7700  0.380942  0.640852"
      ]
     },
     "execution_count": 15,
     "metadata": {},
     "output_type": "execute_result"
    }
   ],
   "source": [
    "stream = df_3.x\n",
    "model = CompareNextBatchesAnalyser(window_size=100, threshold=0.2)\n",
    "for i in range(len(stream)):\n",
    "    model.fit(stream[i])\n",
    "model.get_distributions()"
   ]
  },
  {
   "cell_type": "code",
   "execution_count": null,
   "metadata": {},
   "outputs": [],
   "source": []
  },
  {
   "cell_type": "code",
   "execution_count": null,
   "metadata": {},
   "outputs": [],
   "source": []
  },
  {
   "cell_type": "code",
   "execution_count": null,
   "metadata": {},
   "outputs": [],
   "source": []
  },
  {
   "cell_type": "code",
   "execution_count": null,
   "metadata": {},
   "outputs": [],
   "source": []
  },
  {
   "cell_type": "code",
   "execution_count": null,
   "metadata": {},
   "outputs": [],
   "source": []
  }
 ],
 "metadata": {
  "kernelspec": {
   "display_name": "Python 3",
   "language": "python",
   "name": "python3"
  },
  "language_info": {
   "codemirror_mode": {
    "name": "ipython",
    "version": 3
   },
   "file_extension": ".py",
   "mimetype": "text/x-python",
   "name": "python",
   "nbconvert_exporter": "python",
   "pygments_lexer": "ipython3",
   "version": "3.6.9"
  }
 },
 "nbformat": 4,
 "nbformat_minor": 4
}
